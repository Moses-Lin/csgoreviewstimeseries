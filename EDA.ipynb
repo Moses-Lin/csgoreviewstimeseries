{
 "cells": [
  {
   "cell_type": "markdown",
   "metadata": {},
   "source": [
    "# Importing necessary things"
   ]
  },
  {
   "cell_type": "code",
   "execution_count": 1,
   "metadata": {},
   "outputs": [],
   "source": [
    "import pandas as pd\n",
    "import pickle\n",
    "import bz2\n",
    "\n",
    "import warnings                                  \n",
    "warnings.filterwarnings('ignore')\n",
    "\n",
    "import numpy as np                                                            \n",
    "import matplotlib.pyplot as plt                  \n",
    "import seaborn as sns                            \n",
    "\n",
    "from dateutil.relativedelta import relativedelta \n",
    "from scipy.optimize import minimize              \n",
    "\n",
    "import statsmodels.formula.api as smf            \n",
    "import statsmodels.tsa.api as smt\n",
    "import statsmodels.api as sm\n",
    "import scipy.stats as scs"
   ]
  },
  {
   "cell_type": "markdown",
   "metadata": {},
   "source": [
    "------------"
   ]
  },
  {
   "cell_type": "markdown",
   "metadata": {},
   "source": [
    "# Looking at the dataframe"
   ]
  },
  {
   "cell_type": "code",
   "execution_count": 2,
   "metadata": {},
   "outputs": [],
   "source": [
    "# Bring dataset from pickle\n",
    "\n",
    "def decompress_pickle(file):\n",
    "    data = bz2.BZ2File(file, 'rb')\n",
    "    data = pickle.load(data)\n",
    "    return data"
   ]
  },
  {
   "cell_type": "code",
   "execution_count": 3,
   "metadata": {
    "scrolled": false
   },
   "outputs": [
    {
     "data": {
      "text/html": [
       "<div>\n",
       "<style scoped>\n",
       "    .dataframe tbody tr th:only-of-type {\n",
       "        vertical-align: middle;\n",
       "    }\n",
       "\n",
       "    .dataframe tbody tr th {\n",
       "        vertical-align: top;\n",
       "    }\n",
       "\n",
       "    .dataframe thead th {\n",
       "        text-align: right;\n",
       "    }\n",
       "</style>\n",
       "<table border=\"1\" class=\"dataframe\">\n",
       "  <thead>\n",
       "    <tr style=\"text-align: right;\">\n",
       "      <th></th>\n",
       "      <th>recommendationid</th>\n",
       "      <th>author</th>\n",
       "      <th>language</th>\n",
       "      <th>review</th>\n",
       "      <th>timestamp_created</th>\n",
       "      <th>timestamp_updated</th>\n",
       "      <th>voted_up</th>\n",
       "      <th>votes_up</th>\n",
       "      <th>votes_funny</th>\n",
       "      <th>weighted_vote_score</th>\n",
       "      <th>comment_count</th>\n",
       "      <th>steam_purchase</th>\n",
       "      <th>received_for_free</th>\n",
       "      <th>written_during_early_access</th>\n",
       "      <th>timestamp_dev_responded</th>\n",
       "      <th>developer_response</th>\n",
       "    </tr>\n",
       "  </thead>\n",
       "  <tbody>\n",
       "    <tr>\n",
       "      <th>84652123</th>\n",
       "      <td>84652123</td>\n",
       "      <td>{'steamid': '76561198044182675', 'num_games_ow...</td>\n",
       "      <td>english</td>\n",
       "      <td>Don't get me wrong this game is amazing. I spe...</td>\n",
       "      <td>1610600299</td>\n",
       "      <td>1610600299</td>\n",
       "      <td>False</td>\n",
       "      <td>0</td>\n",
       "      <td>0</td>\n",
       "      <td>0</td>\n",
       "      <td>0</td>\n",
       "      <td>True</td>\n",
       "      <td>False</td>\n",
       "      <td>True</td>\n",
       "      <td>NaN</td>\n",
       "      <td>NaN</td>\n",
       "    </tr>\n",
       "    <tr>\n",
       "      <th>84650292</th>\n",
       "      <td>84650292</td>\n",
       "      <td>{'steamid': '76561198189260829', 'num_games_ow...</td>\n",
       "      <td>english</td>\n",
       "      <td>ME LIKE!!</td>\n",
       "      <td>1610596706</td>\n",
       "      <td>1610596706</td>\n",
       "      <td>True</td>\n",
       "      <td>0</td>\n",
       "      <td>0</td>\n",
       "      <td>0</td>\n",
       "      <td>0</td>\n",
       "      <td>True</td>\n",
       "      <td>False</td>\n",
       "      <td>True</td>\n",
       "      <td>NaN</td>\n",
       "      <td>NaN</td>\n",
       "    </tr>\n",
       "    <tr>\n",
       "      <th>84647357</th>\n",
       "      <td>84647357</td>\n",
       "      <td>{'steamid': '76561197968351158', 'num_games_ow...</td>\n",
       "      <td>english</td>\n",
       "      <td>Really good game. Make sure you opt into the b...</td>\n",
       "      <td>1610591400</td>\n",
       "      <td>1610591400</td>\n",
       "      <td>True</td>\n",
       "      <td>0</td>\n",
       "      <td>0</td>\n",
       "      <td>0</td>\n",
       "      <td>0</td>\n",
       "      <td>True</td>\n",
       "      <td>False</td>\n",
       "      <td>True</td>\n",
       "      <td>NaN</td>\n",
       "      <td>NaN</td>\n",
       "    </tr>\n",
       "    <tr>\n",
       "      <th>84646408</th>\n",
       "      <td>84646408</td>\n",
       "      <td>{'steamid': '76561198025117668', 'num_games_ow...</td>\n",
       "      <td>english</td>\n",
       "      <td>Project Zomboid is THE zombie survival game. W...</td>\n",
       "      <td>1610589741</td>\n",
       "      <td>1610589741</td>\n",
       "      <td>True</td>\n",
       "      <td>0</td>\n",
       "      <td>0</td>\n",
       "      <td>0</td>\n",
       "      <td>0</td>\n",
       "      <td>True</td>\n",
       "      <td>False</td>\n",
       "      <td>True</td>\n",
       "      <td>NaN</td>\n",
       "      <td>NaN</td>\n",
       "    </tr>\n",
       "    <tr>\n",
       "      <th>84643897</th>\n",
       "      <td>84643897</td>\n",
       "      <td>{'steamid': '76561198024526105', 'num_games_ow...</td>\n",
       "      <td>english</td>\n",
       "      <td>Less of an action-packed zombie apocalypse gam...</td>\n",
       "      <td>1610585302</td>\n",
       "      <td>1610585302</td>\n",
       "      <td>True</td>\n",
       "      <td>0</td>\n",
       "      <td>0</td>\n",
       "      <td>0</td>\n",
       "      <td>0</td>\n",
       "      <td>True</td>\n",
       "      <td>False</td>\n",
       "      <td>True</td>\n",
       "      <td>NaN</td>\n",
       "      <td>NaN</td>\n",
       "    </tr>\n",
       "    <tr>\n",
       "      <th>...</th>\n",
       "      <td>...</td>\n",
       "      <td>...</td>\n",
       "      <td>...</td>\n",
       "      <td>...</td>\n",
       "      <td>...</td>\n",
       "      <td>...</td>\n",
       "      <td>...</td>\n",
       "      <td>...</td>\n",
       "      <td>...</td>\n",
       "      <td>...</td>\n",
       "      <td>...</td>\n",
       "      <td>...</td>\n",
       "      <td>...</td>\n",
       "      <td>...</td>\n",
       "      <td>...</td>\n",
       "      <td>...</td>\n",
       "    </tr>\n",
       "    <tr>\n",
       "      <th>7602280</th>\n",
       "      <td>7602280</td>\n",
       "      <td>{'steamid': '76561198067098561', 'num_games_ow...</td>\n",
       "      <td>english</td>\n",
       "      <td>This is a must buy! It's a really unique game ...</td>\n",
       "      <td>1383932465</td>\n",
       "      <td>1383932465</td>\n",
       "      <td>True</td>\n",
       "      <td>0</td>\n",
       "      <td>0</td>\n",
       "      <td>0</td>\n",
       "      <td>0</td>\n",
       "      <td>False</td>\n",
       "      <td>False</td>\n",
       "      <td>True</td>\n",
       "      <td>NaN</td>\n",
       "      <td>NaN</td>\n",
       "    </tr>\n",
       "    <tr>\n",
       "      <th>7602237</th>\n",
       "      <td>7602237</td>\n",
       "      <td>{'steamid': '76561198043807990', 'num_games_ow...</td>\n",
       "      <td>english</td>\n",
       "      <td>Fans of serious zombie survival games that is ...</td>\n",
       "      <td>1383932174</td>\n",
       "      <td>1385746707</td>\n",
       "      <td>True</td>\n",
       "      <td>20</td>\n",
       "      <td>0</td>\n",
       "      <td>0.715714693069458008</td>\n",
       "      <td>0</td>\n",
       "      <td>False</td>\n",
       "      <td>False</td>\n",
       "      <td>True</td>\n",
       "      <td>NaN</td>\n",
       "      <td>NaN</td>\n",
       "    </tr>\n",
       "    <tr>\n",
       "      <th>7602221</th>\n",
       "      <td>7602221</td>\n",
       "      <td>{'steamid': '76561197981939207', 'num_games_ow...</td>\n",
       "      <td>brazilian</td>\n",
       "      <td>Esse jogo é muito bacana para quem gosta de um...</td>\n",
       "      <td>1383932039</td>\n",
       "      <td>1385658239</td>\n",
       "      <td>True</td>\n",
       "      <td>23</td>\n",
       "      <td>0</td>\n",
       "      <td>0.741350948810577393</td>\n",
       "      <td>0</td>\n",
       "      <td>False</td>\n",
       "      <td>False</td>\n",
       "      <td>True</td>\n",
       "      <td>NaN</td>\n",
       "      <td>NaN</td>\n",
       "    </tr>\n",
       "    <tr>\n",
       "      <th>7602166</th>\n",
       "      <td>7602166</td>\n",
       "      <td>{'steamid': '76561198024263590', 'num_games_ow...</td>\n",
       "      <td>english</td>\n",
       "      <td>2013:After a really, really long wait it's fin...</td>\n",
       "      <td>1383931617</td>\n",
       "      <td>1575136783</td>\n",
       "      <td>True</td>\n",
       "      <td>0</td>\n",
       "      <td>0</td>\n",
       "      <td>0</td>\n",
       "      <td>0</td>\n",
       "      <td>False</td>\n",
       "      <td>False</td>\n",
       "      <td>True</td>\n",
       "      <td>NaN</td>\n",
       "      <td>NaN</td>\n",
       "    </tr>\n",
       "    <tr>\n",
       "      <th>7602122</th>\n",
       "      <td>7602122</td>\n",
       "      <td>{'steamid': '76561198003410183', 'num_games_ow...</td>\n",
       "      <td>english</td>\n",
       "      <td>Been with PZ for a very long time now, in fact...</td>\n",
       "      <td>1383931336</td>\n",
       "      <td>1477692685</td>\n",
       "      <td>True</td>\n",
       "      <td>4</td>\n",
       "      <td>0</td>\n",
       "      <td>0.551724135875701904</td>\n",
       "      <td>0</td>\n",
       "      <td>False</td>\n",
       "      <td>False</td>\n",
       "      <td>True</td>\n",
       "      <td>NaN</td>\n",
       "      <td>NaN</td>\n",
       "    </tr>\n",
       "  </tbody>\n",
       "</table>\n",
       "<p>33990 rows × 16 columns</p>\n",
       "</div>"
      ],
      "text/plain": [
       "         recommendationid                                             author  \\\n",
       "84652123         84652123  {'steamid': '76561198044182675', 'num_games_ow...   \n",
       "84650292         84650292  {'steamid': '76561198189260829', 'num_games_ow...   \n",
       "84647357         84647357  {'steamid': '76561197968351158', 'num_games_ow...   \n",
       "84646408         84646408  {'steamid': '76561198025117668', 'num_games_ow...   \n",
       "84643897         84643897  {'steamid': '76561198024526105', 'num_games_ow...   \n",
       "...                   ...                                                ...   \n",
       "7602280           7602280  {'steamid': '76561198067098561', 'num_games_ow...   \n",
       "7602237           7602237  {'steamid': '76561198043807990', 'num_games_ow...   \n",
       "7602221           7602221  {'steamid': '76561197981939207', 'num_games_ow...   \n",
       "7602166           7602166  {'steamid': '76561198024263590', 'num_games_ow...   \n",
       "7602122           7602122  {'steamid': '76561198003410183', 'num_games_ow...   \n",
       "\n",
       "           language                                             review  \\\n",
       "84652123    english  Don't get me wrong this game is amazing. I spe...   \n",
       "84650292    english                                          ME LIKE!!   \n",
       "84647357    english  Really good game. Make sure you opt into the b...   \n",
       "84646408    english  Project Zomboid is THE zombie survival game. W...   \n",
       "84643897    english  Less of an action-packed zombie apocalypse gam...   \n",
       "...             ...                                                ...   \n",
       "7602280     english  This is a must buy! It's a really unique game ...   \n",
       "7602237     english  Fans of serious zombie survival games that is ...   \n",
       "7602221   brazilian  Esse jogo é muito bacana para quem gosta de um...   \n",
       "7602166     english  2013:After a really, really long wait it's fin...   \n",
       "7602122     english  Been with PZ for a very long time now, in fact...   \n",
       "\n",
       "         timestamp_created timestamp_updated voted_up votes_up votes_funny  \\\n",
       "84652123        1610600299        1610600299    False        0           0   \n",
       "84650292        1610596706        1610596706     True        0           0   \n",
       "84647357        1610591400        1610591400     True        0           0   \n",
       "84646408        1610589741        1610589741     True        0           0   \n",
       "84643897        1610585302        1610585302     True        0           0   \n",
       "...                    ...               ...      ...      ...         ...   \n",
       "7602280         1383932465        1383932465     True        0           0   \n",
       "7602237         1383932174        1385746707     True       20           0   \n",
       "7602221         1383932039        1385658239     True       23           0   \n",
       "7602166         1383931617        1575136783     True        0           0   \n",
       "7602122         1383931336        1477692685     True        4           0   \n",
       "\n",
       "           weighted_vote_score comment_count steam_purchase received_for_free  \\\n",
       "84652123                     0             0           True             False   \n",
       "84650292                     0             0           True             False   \n",
       "84647357                     0             0           True             False   \n",
       "84646408                     0             0           True             False   \n",
       "84643897                     0             0           True             False   \n",
       "...                        ...           ...            ...               ...   \n",
       "7602280                      0             0          False             False   \n",
       "7602237   0.715714693069458008             0          False             False   \n",
       "7602221   0.741350948810577393             0          False             False   \n",
       "7602166                      0             0          False             False   \n",
       "7602122   0.551724135875701904             0          False             False   \n",
       "\n",
       "         written_during_early_access timestamp_dev_responded  \\\n",
       "84652123                        True                     NaN   \n",
       "84650292                        True                     NaN   \n",
       "84647357                        True                     NaN   \n",
       "84646408                        True                     NaN   \n",
       "84643897                        True                     NaN   \n",
       "...                              ...                     ...   \n",
       "7602280                         True                     NaN   \n",
       "7602237                         True                     NaN   \n",
       "7602221                         True                     NaN   \n",
       "7602166                         True                     NaN   \n",
       "7602122                         True                     NaN   \n",
       "\n",
       "         developer_response  \n",
       "84652123                NaN  \n",
       "84650292                NaN  \n",
       "84647357                NaN  \n",
       "84646408                NaN  \n",
       "84643897                NaN  \n",
       "...                     ...  \n",
       "7602280                 NaN  \n",
       "7602237                 NaN  \n",
       "7602221                 NaN  \n",
       "7602166                 NaN  \n",
       "7602122                 NaN  \n",
       "\n",
       "[33990 rows x 16 columns]"
      ]
     },
     "execution_count": 3,
     "metadata": {},
     "output_type": "execute_result"
    }
   ],
   "source": [
    "df = decompress_pickle('data/compressedpz.pbz2')\n",
    "df"
   ]
  },
  {
   "cell_type": "markdown",
   "metadata": {},
   "source": [
    "------"
   ]
  },
  {
   "cell_type": "markdown",
   "metadata": {},
   "source": [
    "# Cleaning the data"
   ]
  },
  {
   "cell_type": "code",
   "execution_count": 4,
   "metadata": {},
   "outputs": [
    {
     "data": {
      "text/plain": [
       "recommendationid                   0\n",
       "author                             0\n",
       "language                           0\n",
       "review                             0\n",
       "timestamp_created                  0\n",
       "timestamp_updated                  0\n",
       "voted_up                           0\n",
       "votes_up                           0\n",
       "votes_funny                        0\n",
       "weighted_vote_score                0\n",
       "comment_count                      0\n",
       "steam_purchase                     0\n",
       "received_for_free                  0\n",
       "written_during_early_access        0\n",
       "timestamp_dev_responded        33976\n",
       "developer_response             33976\n",
       "dtype: int64"
      ]
     },
     "execution_count": 4,
     "metadata": {},
     "output_type": "execute_result"
    }
   ],
   "source": [
    "# Checking for null values\n",
    "# Almost all the reviews have no responses from the dev.\n",
    "\n",
    "df.isna().sum()"
   ]
  },
  {
   "cell_type": "code",
   "execution_count": 5,
   "metadata": {},
   "outputs": [
    {
     "data": {
      "text/html": [
       "<div>\n",
       "<style scoped>\n",
       "    .dataframe tbody tr th:only-of-type {\n",
       "        vertical-align: middle;\n",
       "    }\n",
       "\n",
       "    .dataframe tbody tr th {\n",
       "        vertical-align: top;\n",
       "    }\n",
       "\n",
       "    .dataframe thead th {\n",
       "        text-align: right;\n",
       "    }\n",
       "</style>\n",
       "<table border=\"1\" class=\"dataframe\">\n",
       "  <thead>\n",
       "    <tr style=\"text-align: right;\">\n",
       "      <th></th>\n",
       "      <th>language</th>\n",
       "      <th>review</th>\n",
       "      <th>timestamp_created</th>\n",
       "      <th>voted_up</th>\n",
       "      <th>votes_up</th>\n",
       "      <th>votes_funny</th>\n",
       "      <th>weighted_vote_score</th>\n",
       "      <th>comment_count</th>\n",
       "      <th>steam_purchase</th>\n",
       "      <th>received_for_free</th>\n",
       "    </tr>\n",
       "  </thead>\n",
       "  <tbody>\n",
       "    <tr>\n",
       "      <th>84652123</th>\n",
       "      <td>english</td>\n",
       "      <td>Don't get me wrong this game is amazing. I spe...</td>\n",
       "      <td>1610600299</td>\n",
       "      <td>False</td>\n",
       "      <td>0</td>\n",
       "      <td>0</td>\n",
       "      <td>0</td>\n",
       "      <td>0</td>\n",
       "      <td>True</td>\n",
       "      <td>False</td>\n",
       "    </tr>\n",
       "    <tr>\n",
       "      <th>84650292</th>\n",
       "      <td>english</td>\n",
       "      <td>ME LIKE!!</td>\n",
       "      <td>1610596706</td>\n",
       "      <td>True</td>\n",
       "      <td>0</td>\n",
       "      <td>0</td>\n",
       "      <td>0</td>\n",
       "      <td>0</td>\n",
       "      <td>True</td>\n",
       "      <td>False</td>\n",
       "    </tr>\n",
       "    <tr>\n",
       "      <th>84647357</th>\n",
       "      <td>english</td>\n",
       "      <td>Really good game. Make sure you opt into the b...</td>\n",
       "      <td>1610591400</td>\n",
       "      <td>True</td>\n",
       "      <td>0</td>\n",
       "      <td>0</td>\n",
       "      <td>0</td>\n",
       "      <td>0</td>\n",
       "      <td>True</td>\n",
       "      <td>False</td>\n",
       "    </tr>\n",
       "    <tr>\n",
       "      <th>84646408</th>\n",
       "      <td>english</td>\n",
       "      <td>Project Zomboid is THE zombie survival game. W...</td>\n",
       "      <td>1610589741</td>\n",
       "      <td>True</td>\n",
       "      <td>0</td>\n",
       "      <td>0</td>\n",
       "      <td>0</td>\n",
       "      <td>0</td>\n",
       "      <td>True</td>\n",
       "      <td>False</td>\n",
       "    </tr>\n",
       "    <tr>\n",
       "      <th>84643897</th>\n",
       "      <td>english</td>\n",
       "      <td>Less of an action-packed zombie apocalypse gam...</td>\n",
       "      <td>1610585302</td>\n",
       "      <td>True</td>\n",
       "      <td>0</td>\n",
       "      <td>0</td>\n",
       "      <td>0</td>\n",
       "      <td>0</td>\n",
       "      <td>True</td>\n",
       "      <td>False</td>\n",
       "    </tr>\n",
       "  </tbody>\n",
       "</table>\n",
       "</div>"
      ],
      "text/plain": [
       "         language                                             review  \\\n",
       "84652123  english  Don't get me wrong this game is amazing. I spe...   \n",
       "84650292  english                                          ME LIKE!!   \n",
       "84647357  english  Really good game. Make sure you opt into the b...   \n",
       "84646408  english  Project Zomboid is THE zombie survival game. W...   \n",
       "84643897  english  Less of an action-packed zombie apocalypse gam...   \n",
       "\n",
       "         timestamp_created voted_up votes_up votes_funny weighted_vote_score  \\\n",
       "84652123        1610600299    False        0           0                   0   \n",
       "84650292        1610596706     True        0           0                   0   \n",
       "84647357        1610591400     True        0           0                   0   \n",
       "84646408        1610589741     True        0           0                   0   \n",
       "84643897        1610585302     True        0           0                   0   \n",
       "\n",
       "         comment_count steam_purchase received_for_free  \n",
       "84652123             0           True             False  \n",
       "84650292             0           True             False  \n",
       "84647357             0           True             False  \n",
       "84646408             0           True             False  \n",
       "84643897             0           True             False  "
      ]
     },
     "execution_count": 5,
     "metadata": {},
     "output_type": "execute_result"
    }
   ],
   "source": [
    "# Dropping columns that are not particularly useful.\n",
    "\n",
    "df = df.drop(columns=['recommendationid', 'author', 'timestamp_updated', 'timestamp_dev_responded', 'developer_response', 'written_during_early_access'])\n",
    "df.head()"
   ]
  },
  {
   "cell_type": "code",
   "execution_count": 6,
   "metadata": {
    "scrolled": true
   },
   "outputs": [
    {
     "data": {
      "text/html": [
       "<div>\n",
       "<style scoped>\n",
       "    .dataframe tbody tr th:only-of-type {\n",
       "        vertical-align: middle;\n",
       "    }\n",
       "\n",
       "    .dataframe tbody tr th {\n",
       "        vertical-align: top;\n",
       "    }\n",
       "\n",
       "    .dataframe thead th {\n",
       "        text-align: right;\n",
       "    }\n",
       "</style>\n",
       "<table border=\"1\" class=\"dataframe\">\n",
       "  <thead>\n",
       "    <tr style=\"text-align: right;\">\n",
       "      <th></th>\n",
       "      <th>language</th>\n",
       "      <th>review</th>\n",
       "      <th>reviewtimeposted</th>\n",
       "      <th>voted_up</th>\n",
       "      <th>votes_up</th>\n",
       "      <th>votes_funny</th>\n",
       "      <th>weighted_vote_score</th>\n",
       "      <th>comment_count</th>\n",
       "      <th>steam_purchase</th>\n",
       "      <th>received_for_free</th>\n",
       "    </tr>\n",
       "  </thead>\n",
       "  <tbody>\n",
       "    <tr>\n",
       "      <th>84652123</th>\n",
       "      <td>english</td>\n",
       "      <td>Don't get me wrong this game is amazing. I spe...</td>\n",
       "      <td>2021-01-13</td>\n",
       "      <td>False</td>\n",
       "      <td>0</td>\n",
       "      <td>0</td>\n",
       "      <td>0</td>\n",
       "      <td>0</td>\n",
       "      <td>True</td>\n",
       "      <td>False</td>\n",
       "    </tr>\n",
       "    <tr>\n",
       "      <th>84650292</th>\n",
       "      <td>english</td>\n",
       "      <td>ME LIKE!!</td>\n",
       "      <td>2021-01-13</td>\n",
       "      <td>True</td>\n",
       "      <td>0</td>\n",
       "      <td>0</td>\n",
       "      <td>0</td>\n",
       "      <td>0</td>\n",
       "      <td>True</td>\n",
       "      <td>False</td>\n",
       "    </tr>\n",
       "    <tr>\n",
       "      <th>84647357</th>\n",
       "      <td>english</td>\n",
       "      <td>Really good game. Make sure you opt into the b...</td>\n",
       "      <td>2021-01-13</td>\n",
       "      <td>True</td>\n",
       "      <td>0</td>\n",
       "      <td>0</td>\n",
       "      <td>0</td>\n",
       "      <td>0</td>\n",
       "      <td>True</td>\n",
       "      <td>False</td>\n",
       "    </tr>\n",
       "    <tr>\n",
       "      <th>84646408</th>\n",
       "      <td>english</td>\n",
       "      <td>Project Zomboid is THE zombie survival game. W...</td>\n",
       "      <td>2021-01-13</td>\n",
       "      <td>True</td>\n",
       "      <td>0</td>\n",
       "      <td>0</td>\n",
       "      <td>0</td>\n",
       "      <td>0</td>\n",
       "      <td>True</td>\n",
       "      <td>False</td>\n",
       "    </tr>\n",
       "    <tr>\n",
       "      <th>84643897</th>\n",
       "      <td>english</td>\n",
       "      <td>Less of an action-packed zombie apocalypse gam...</td>\n",
       "      <td>2021-01-13</td>\n",
       "      <td>True</td>\n",
       "      <td>0</td>\n",
       "      <td>0</td>\n",
       "      <td>0</td>\n",
       "      <td>0</td>\n",
       "      <td>True</td>\n",
       "      <td>False</td>\n",
       "    </tr>\n",
       "    <tr>\n",
       "      <th>...</th>\n",
       "      <td>...</td>\n",
       "      <td>...</td>\n",
       "      <td>...</td>\n",
       "      <td>...</td>\n",
       "      <td>...</td>\n",
       "      <td>...</td>\n",
       "      <td>...</td>\n",
       "      <td>...</td>\n",
       "      <td>...</td>\n",
       "      <td>...</td>\n",
       "    </tr>\n",
       "    <tr>\n",
       "      <th>7602280</th>\n",
       "      <td>english</td>\n",
       "      <td>This is a must buy! It's a really unique game ...</td>\n",
       "      <td>2013-11-08</td>\n",
       "      <td>True</td>\n",
       "      <td>0</td>\n",
       "      <td>0</td>\n",
       "      <td>0</td>\n",
       "      <td>0</td>\n",
       "      <td>False</td>\n",
       "      <td>False</td>\n",
       "    </tr>\n",
       "    <tr>\n",
       "      <th>7602237</th>\n",
       "      <td>english</td>\n",
       "      <td>Fans of serious zombie survival games that is ...</td>\n",
       "      <td>2013-11-08</td>\n",
       "      <td>True</td>\n",
       "      <td>20</td>\n",
       "      <td>0</td>\n",
       "      <td>0.715714693069458008</td>\n",
       "      <td>0</td>\n",
       "      <td>False</td>\n",
       "      <td>False</td>\n",
       "    </tr>\n",
       "    <tr>\n",
       "      <th>7602221</th>\n",
       "      <td>brazilian</td>\n",
       "      <td>Esse jogo é muito bacana para quem gosta de um...</td>\n",
       "      <td>2013-11-08</td>\n",
       "      <td>True</td>\n",
       "      <td>23</td>\n",
       "      <td>0</td>\n",
       "      <td>0.741350948810577393</td>\n",
       "      <td>0</td>\n",
       "      <td>False</td>\n",
       "      <td>False</td>\n",
       "    </tr>\n",
       "    <tr>\n",
       "      <th>7602166</th>\n",
       "      <td>english</td>\n",
       "      <td>2013:After a really, really long wait it's fin...</td>\n",
       "      <td>2013-11-08</td>\n",
       "      <td>True</td>\n",
       "      <td>0</td>\n",
       "      <td>0</td>\n",
       "      <td>0</td>\n",
       "      <td>0</td>\n",
       "      <td>False</td>\n",
       "      <td>False</td>\n",
       "    </tr>\n",
       "    <tr>\n",
       "      <th>7602122</th>\n",
       "      <td>english</td>\n",
       "      <td>Been with PZ for a very long time now, in fact...</td>\n",
       "      <td>2013-11-08</td>\n",
       "      <td>True</td>\n",
       "      <td>4</td>\n",
       "      <td>0</td>\n",
       "      <td>0.551724135875701904</td>\n",
       "      <td>0</td>\n",
       "      <td>False</td>\n",
       "      <td>False</td>\n",
       "    </tr>\n",
       "  </tbody>\n",
       "</table>\n",
       "<p>33990 rows × 10 columns</p>\n",
       "</div>"
      ],
      "text/plain": [
       "           language                                             review  \\\n",
       "84652123    english  Don't get me wrong this game is amazing. I spe...   \n",
       "84650292    english                                          ME LIKE!!   \n",
       "84647357    english  Really good game. Make sure you opt into the b...   \n",
       "84646408    english  Project Zomboid is THE zombie survival game. W...   \n",
       "84643897    english  Less of an action-packed zombie apocalypse gam...   \n",
       "...             ...                                                ...   \n",
       "7602280     english  This is a must buy! It's a really unique game ...   \n",
       "7602237     english  Fans of serious zombie survival games that is ...   \n",
       "7602221   brazilian  Esse jogo é muito bacana para quem gosta de um...   \n",
       "7602166     english  2013:After a really, really long wait it's fin...   \n",
       "7602122     english  Been with PZ for a very long time now, in fact...   \n",
       "\n",
       "         reviewtimeposted voted_up votes_up votes_funny   weighted_vote_score  \\\n",
       "84652123       2021-01-13    False        0           0                     0   \n",
       "84650292       2021-01-13     True        0           0                     0   \n",
       "84647357       2021-01-13     True        0           0                     0   \n",
       "84646408       2021-01-13     True        0           0                     0   \n",
       "84643897       2021-01-13     True        0           0                     0   \n",
       "...                   ...      ...      ...         ...                   ...   \n",
       "7602280        2013-11-08     True        0           0                     0   \n",
       "7602237        2013-11-08     True       20           0  0.715714693069458008   \n",
       "7602221        2013-11-08     True       23           0  0.741350948810577393   \n",
       "7602166        2013-11-08     True        0           0                     0   \n",
       "7602122        2013-11-08     True        4           0  0.551724135875701904   \n",
       "\n",
       "         comment_count steam_purchase received_for_free  \n",
       "84652123             0           True             False  \n",
       "84650292             0           True             False  \n",
       "84647357             0           True             False  \n",
       "84646408             0           True             False  \n",
       "84643897             0           True             False  \n",
       "...                ...            ...               ...  \n",
       "7602280              0          False             False  \n",
       "7602237              0          False             False  \n",
       "7602221              0          False             False  \n",
       "7602166              0          False             False  \n",
       "7602122              0          False             False  \n",
       "\n",
       "[33990 rows x 10 columns]"
      ]
     },
     "execution_count": 6,
     "metadata": {},
     "output_type": "execute_result"
    }
   ],
   "source": [
    "import time\n",
    "\n",
    "# Changing epoch time to readable format. Removing timestamp for ease of time series.\n",
    "df['timestamp_created'] = [time.strftime('%Y-%m-%d', time.localtime(x)) for x in df['timestamp_created']]\n",
    "df['timestamp_created'] = pd.to_datetime(df['timestamp_created'], format='%Y-%m-%d')\n",
    "\n",
    "# Changing name of column for ease. \n",
    "df = df.rename(columns={'timestamp_created':'reviewtimeposted'})\n",
    "df"
   ]
  },
  {
   "cell_type": "markdown",
   "metadata": {},
   "source": [
    "-----"
   ]
  },
  {
   "cell_type": "markdown",
   "metadata": {},
   "source": [
    "# Checking distribution of reviews"
   ]
  },
  {
   "cell_type": "code",
   "execution_count": 7,
   "metadata": {},
   "outputs": [
    {
     "data": {
      "text/plain": [
       "english       16263\n",
       "russian        6942\n",
       "schinese       2300\n",
       "spanish        1552\n",
       "brazilian      1416\n",
       "french         1236\n",
       "koreana         877\n",
       "turkish         745\n",
       "german          722\n",
       "polish          550\n",
       "tchinese        223\n",
       "japanese        202\n",
       "italian         199\n",
       "latam           132\n",
       "czech           103\n",
       "thai             99\n",
       "portuguese       90\n",
       "dutch            65\n",
       "swedish          63\n",
       "finnish          46\n",
       "danish           42\n",
       "hungarian        41\n",
       "ukrainian        32\n",
       "norwegian        27\n",
       "bulgarian         7\n",
       "greek             6\n",
       "vietnamese        5\n",
       "romanian          5\n",
       "Name: language, dtype: int64"
      ]
     },
     "execution_count": 7,
     "metadata": {},
     "output_type": "execute_result"
    }
   ],
   "source": [
    "# About half the reviews are in English as indicated by the reviewers.\n",
    "\n",
    "df['language'].value_counts()"
   ]
  },
  {
   "cell_type": "code",
   "execution_count": 8,
   "metadata": {},
   "outputs": [
    {
     "data": {
      "text/plain": [
       "True     30418\n",
       "False     3572\n",
       "Name: voted_up, dtype: int64"
      ]
     },
     "execution_count": 8,
     "metadata": {},
     "output_type": "execute_result"
    }
   ],
   "source": [
    "# A large majority of people reviewed the game positively.\n",
    "\n",
    "df['voted_up'].value_counts()"
   ]
  },
  {
   "cell_type": "code",
   "execution_count": 9,
   "metadata": {},
   "outputs": [
    {
     "data": {
      "text/plain": [
       "True     25751\n",
       "False     8239\n",
       "Name: steam_purchase, dtype: int64"
      ]
     },
     "execution_count": 9,
     "metadata": {},
     "output_type": "execute_result"
    }
   ],
   "source": [
    "# A large majority of people who made reviews purchased the game on Steam.\n",
    "\n",
    "df['steam_purchase'].value_counts()"
   ]
  },
  {
   "cell_type": "code",
   "execution_count": 10,
   "metadata": {
    "scrolled": true
   },
   "outputs": [
    {
     "data": {
      "text/plain": [
       "False    33521\n",
       "True       469\n",
       "Name: received_for_free, dtype: int64"
      ]
     },
     "execution_count": 10,
     "metadata": {},
     "output_type": "execute_result"
    }
   ],
   "source": [
    "# A vast majority of people who made reviews paid for the game.\n",
    "\n",
    "df['received_for_free'].value_counts()"
   ]
  },
  {
   "cell_type": "markdown",
   "metadata": {},
   "source": [
    "----"
   ]
  },
  {
   "cell_type": "code",
   "execution_count": 11,
   "metadata": {
    "scrolled": true
   },
   "outputs": [
    {
     "data": {
      "text/html": [
       "<div>\n",
       "<style scoped>\n",
       "    .dataframe tbody tr th:only-of-type {\n",
       "        vertical-align: middle;\n",
       "    }\n",
       "\n",
       "    .dataframe tbody tr th {\n",
       "        vertical-align: top;\n",
       "    }\n",
       "\n",
       "    .dataframe thead th {\n",
       "        text-align: right;\n",
       "    }\n",
       "</style>\n",
       "<table border=\"1\" class=\"dataframe\">\n",
       "  <thead>\n",
       "    <tr style=\"text-align: right;\">\n",
       "      <th></th>\n",
       "      <th>dailycount</th>\n",
       "    </tr>\n",
       "    <tr>\n",
       "      <th>date</th>\n",
       "      <th></th>\n",
       "    </tr>\n",
       "  </thead>\n",
       "  <tbody>\n",
       "    <tr>\n",
       "      <th>2013-11-08</th>\n",
       "      <td>58</td>\n",
       "    </tr>\n",
       "    <tr>\n",
       "      <th>2013-11-09</th>\n",
       "      <td>46</td>\n",
       "    </tr>\n",
       "    <tr>\n",
       "      <th>2013-11-10</th>\n",
       "      <td>37</td>\n",
       "    </tr>\n",
       "    <tr>\n",
       "      <th>2013-11-11</th>\n",
       "      <td>21</td>\n",
       "    </tr>\n",
       "    <tr>\n",
       "      <th>2013-11-12</th>\n",
       "      <td>22</td>\n",
       "    </tr>\n",
       "    <tr>\n",
       "      <th>...</th>\n",
       "      <td>...</td>\n",
       "    </tr>\n",
       "    <tr>\n",
       "      <th>2021-01-09</th>\n",
       "      <td>29</td>\n",
       "    </tr>\n",
       "    <tr>\n",
       "      <th>2021-01-10</th>\n",
       "      <td>39</td>\n",
       "    </tr>\n",
       "    <tr>\n",
       "      <th>2021-01-11</th>\n",
       "      <td>20</td>\n",
       "    </tr>\n",
       "    <tr>\n",
       "      <th>2021-01-12</th>\n",
       "      <td>25</td>\n",
       "    </tr>\n",
       "    <tr>\n",
       "      <th>2021-01-13</th>\n",
       "      <td>35</td>\n",
       "    </tr>\n",
       "  </tbody>\n",
       "</table>\n",
       "<p>2615 rows × 1 columns</p>\n",
       "</div>"
      ],
      "text/plain": [
       "            dailycount\n",
       "date                  \n",
       "2013-11-08          58\n",
       "2013-11-09          46\n",
       "2013-11-10          37\n",
       "2013-11-11          21\n",
       "2013-11-12          22\n",
       "...                ...\n",
       "2021-01-09          29\n",
       "2021-01-10          39\n",
       "2021-01-11          20\n",
       "2021-01-12          25\n",
       "2021-01-13          35\n",
       "\n",
       "[2615 rows x 1 columns]"
      ]
     },
     "execution_count": 11,
     "metadata": {},
     "output_type": "execute_result"
    }
   ],
   "source": [
    "reviewcount = df['reviewtimeposted'].value_counts().rename_axis('date').reset_index(name='dailycount')\n",
    "reviewcount = reviewcount.sort_values(by='date')\n",
    "reviewcount.set_index('date', inplace=True)\n",
    "reviewcount"
   ]
  },
  {
   "cell_type": "code",
   "execution_count": 12,
   "metadata": {},
   "outputs": [
    {
     "name": "stdout",
     "output_type": "stream",
     "text": [
      "<class 'pandas.core.frame.DataFrame'>\n",
      "DatetimeIndex: 2615 entries, 2013-11-08 to 2021-01-13\n",
      "Data columns (total 1 columns):\n",
      " #   Column      Non-Null Count  Dtype\n",
      "---  ------      --------------  -----\n",
      " 0   dailycount  2615 non-null   int64\n",
      "dtypes: int64(1)\n",
      "memory usage: 40.9 KB\n"
     ]
    }
   ],
   "source": [
    "reviewcount.info()"
   ]
  },
  {
   "cell_type": "code",
   "execution_count": 13,
   "metadata": {},
   "outputs": [
    {
     "data": {
      "text/html": [
       "<div>\n",
       "<style scoped>\n",
       "    .dataframe tbody tr th:only-of-type {\n",
       "        vertical-align: middle;\n",
       "    }\n",
       "\n",
       "    .dataframe tbody tr th {\n",
       "        vertical-align: top;\n",
       "    }\n",
       "\n",
       "    .dataframe thead th {\n",
       "        text-align: right;\n",
       "    }\n",
       "</style>\n",
       "<table border=\"1\" class=\"dataframe\">\n",
       "  <thead>\n",
       "    <tr style=\"text-align: right;\">\n",
       "      <th></th>\n",
       "      <th>dailycount</th>\n",
       "    </tr>\n",
       "    <tr>\n",
       "      <th>date</th>\n",
       "      <th></th>\n",
       "    </tr>\n",
       "  </thead>\n",
       "  <tbody>\n",
       "    <tr>\n",
       "      <th>2013-11-01</th>\n",
       "      <td>20.695652</td>\n",
       "    </tr>\n",
       "    <tr>\n",
       "      <th>2013-12-01</th>\n",
       "      <td>17.419355</td>\n",
       "    </tr>\n",
       "    <tr>\n",
       "      <th>2014-01-01</th>\n",
       "      <td>12.806452</td>\n",
       "    </tr>\n",
       "    <tr>\n",
       "      <th>2014-02-01</th>\n",
       "      <td>13.178571</td>\n",
       "    </tr>\n",
       "    <tr>\n",
       "      <th>2014-03-01</th>\n",
       "      <td>23.580645</td>\n",
       "    </tr>\n",
       "    <tr>\n",
       "      <th>...</th>\n",
       "      <td>...</td>\n",
       "    </tr>\n",
       "    <tr>\n",
       "      <th>2020-09-01</th>\n",
       "      <td>19.633333</td>\n",
       "    </tr>\n",
       "    <tr>\n",
       "      <th>2020-10-01</th>\n",
       "      <td>25.258065</td>\n",
       "    </tr>\n",
       "    <tr>\n",
       "      <th>2020-11-01</th>\n",
       "      <td>57.233333</td>\n",
       "    </tr>\n",
       "    <tr>\n",
       "      <th>2020-12-01</th>\n",
       "      <td>31.129032</td>\n",
       "    </tr>\n",
       "    <tr>\n",
       "      <th>2021-01-01</th>\n",
       "      <td>31.230769</td>\n",
       "    </tr>\n",
       "  </tbody>\n",
       "</table>\n",
       "<p>87 rows × 1 columns</p>\n",
       "</div>"
      ],
      "text/plain": [
       "            dailycount\n",
       "date                  \n",
       "2013-11-01   20.695652\n",
       "2013-12-01   17.419355\n",
       "2014-01-01   12.806452\n",
       "2014-02-01   13.178571\n",
       "2014-03-01   23.580645\n",
       "...                ...\n",
       "2020-09-01   19.633333\n",
       "2020-10-01   25.258065\n",
       "2020-11-01   57.233333\n",
       "2020-12-01   31.129032\n",
       "2021-01-01   31.230769\n",
       "\n",
       "[87 rows x 1 columns]"
      ]
     },
     "execution_count": 13,
     "metadata": {},
     "output_type": "execute_result"
    }
   ],
   "source": [
    "reviewcountmonthly = reviewcount.resample('MS')\n",
    "month_mean = reviewcountmonthly.mean()\n",
    "month_mean"
   ]
  },
  {
   "cell_type": "code",
   "execution_count": 14,
   "metadata": {},
   "outputs": [
    {
     "data": {
      "text/plain": [
       "Text(0, 0.5, 'Number of Reviews')"
      ]
     },
     "execution_count": 14,
     "metadata": {},
     "output_type": "execute_result"
    },
    {
     "data": {
      "image/png": "[encoded data removed]",
      "text/plain": [
       "<Figure size 1440x576 with 1 Axes>"
      ]
     },
     "metadata": {
      "needs_background": "light"
     },
     "output_type": "display_data"
    }
   ],
   "source": [
    "reviewcount.plot(figsize = (20,8))\n",
    "plt.title('Project Zomboid Number of Reviews over Time')\n",
    "plt.xlabel('Time', fontsize=10)\n",
    "plt.ylabel('Number of Reviews', fontsize=10)"
   ]
  },
  {
   "cell_type": "code",
   "execution_count": 15,
   "metadata": {
    "scrolled": true
   },
   "outputs": [
    {
     "data": {
      "text/plain": [
       "Text(0, 0.5, 'Number of Reviews')"
      ]
     },
     "execution_count": 15,
     "metadata": {},
     "output_type": "execute_result"
    },
    {
     "data": {
      "image/png": "[encoded data removed]",
      "text/plain": [
       "<Figure size 1440x576 with 1 Axes>"
      ]
     },
     "metadata": {
      "needs_background": "light"
     },
     "output_type": "display_data"
    }
   ],
   "source": [
    "month_mean.plot(figsize = (20,8))\n",
    "plt.title('Project Zomboid Number of Reviews over Time')\n",
    "plt.xlabel('Months', fontsize=10)\n",
    "plt.ylabel('Number of Reviews', fontsize=10)"
   ]
  },
  {
   "cell_type": "code",
   "execution_count": 16,
   "metadata": {
    "scrolled": true
   },
   "outputs": [
    {
     "data": {
      "image/png": "[encoded data removed]",
      "text/plain": [
       "<Figure size 1152x432 with 1 Axes>"
      ]
     },
     "metadata": {
      "needs_background": "light"
     },
     "output_type": "display_data"
    }
   ],
   "source": [
    "roll_mean = reviewcount.rolling(window=8, center=False).mean()\n",
    "roll_std = reviewcount.rolling(window=8, center=False).std()\n",
    "\n",
    "fig = plt.figure(figsize= (16,6))\n",
    "plt.plot(reviewcount, color='blue', label='Original')\n",
    "plt.plot(roll_mean, color='red', label='Rolling Mean')\n",
    "plt.plot(roll_std, color='black', label='Rolling Std')\n",
    "plt.title('Rolling Mean and Standard Deviation')\n",
    "plt.legend(loc='best')\n",
    "plt.show(block=False)"
   ]
  },
  {
   "cell_type": "markdown",
   "metadata": {},
   "source": [
    "-----"
   ]
  },
  {
   "cell_type": "markdown",
   "metadata": {},
   "source": [
    "# Stationarity Tests"
   ]
  },
  {
   "cell_type": "markdown",
   "metadata": {},
   "source": [
    "### Summary Statistics"
   ]
  },
  {
   "cell_type": "code",
   "execution_count": 23,
   "metadata": {
    "scrolled": true
   },
   "outputs": [
    {
     "data": {
      "text/plain": [
       "Text(0.5, 1.0, 'Distribution of Daily # of Reviews')"
      ]
     },
     "execution_count": 23,
     "metadata": {},
     "output_type": "execute_result"
    },
    {
     "data": {
      "image/png": "[encoded data removed]",
      "text/plain": [
       "<Figure size 432x288 with 1 Axes>"
      ]
     },
     "metadata": {
      "needs_background": "light"
     },
     "output_type": "display_data"
    }
   ],
   "source": [
    "sns.distplot(reviewcount['dailycount'])\n",
    "plt.title('Distribution of Daily # of Reviews')"
   ]
  },
  {
   "cell_type": "code",
   "execution_count": 32,
   "metadata": {},
   "outputs": [
    {
     "name": "stdout",
     "output_type": "stream",
     "text": [
      "mean1=10.279052, mean2=15.719204\n",
      "variance1=90.387726, variance2=438.074941\n"
     ]
    }
   ],
   "source": [
    "X = reviewcount.values\n",
    "split = round(len(X)/2)\n",
    "X1, X2 = X[0:split], X[split:]\n",
    "mean1, mean2 = X1.mean(),X2.mean()\n",
    "var1, var2 = X1.var(), X2.var()\n",
    "print('mean1=%f, mean2=%f' % (mean1, mean2))\n",
    "print('variance1=%f, variance2=%f' % (var1, var2))"
   ]
  },
  {
   "cell_type": "markdown",
   "metadata": {},
   "source": [
    "#### Log Transform"
   ]
  },
  {
   "cell_type": "code",
   "execution_count": 45,
   "metadata": {
    "scrolled": true
   },
   "outputs": [
    {
     "data": {
      "text/plain": [
       "Text(0.5, 1.0, 'Distribution of Daily # of Reviews')"
      ]
     },
     "execution_count": 45,
     "metadata": {},
     "output_type": "execute_result"
    },
    {
     "data": {
      "image/png": "[encoded data removed]",
      "text/plain": [
       "<Figure size 432x288 with 1 Axes>"
      ]
     },
     "metadata": {
      "needs_background": "light"
     },
     "output_type": "display_data"
    }
   ],
   "source": [
    "from numpy import log\n",
    "\n",
    "X = log(X)\n",
    "sns.distplot(X)\n",
    "plt.title('Distribution of Daily # of Reviews')"
   ]
  },
  {
   "cell_type": "code",
   "execution_count": 46,
   "metadata": {
    "scrolled": true
   },
   "outputs": [
    {
     "data": {
      "image/png": "[encoded data removed]",
      "text/plain": [
       "<Figure size 432x288 with 1 Axes>"
      ]
     },
     "metadata": {
      "needs_background": "light"
     },
     "output_type": "display_data"
    }
   ],
   "source": [
    "plt.plot(X)\n",
    "plt.show()"
   ]
  },
  {
   "cell_type": "code",
   "execution_count": 47,
   "metadata": {},
   "outputs": [
    {
     "name": "stdout",
     "output_type": "stream",
     "text": [
      "mean1=2.113110, mean2=2.290500\n",
      "variance1=0.388738, variance2=0.852792\n"
     ]
    }
   ],
   "source": [
    "split = round(len(X)/2)\n",
    "X1, X2 = X[0:split], X[split:]\n",
    "mean1, mean2 = X1.mean(),X2.mean()\n",
    "var1, var2 = X1.var(), X2.var()\n",
    "print('mean1=%f, mean2=%f' % (mean1, mean2))\n",
    "print('variance1=%f, variance2=%f' % (var1, var2))"
   ]
  },
  {
   "cell_type": "markdown",
   "metadata": {},
   "source": [
    "### Dickey-Fuller Test"
   ]
  },
  {
   "cell_type": "code",
   "execution_count": null,
   "metadata": {},
   "outputs": [],
   "source": [
    "from statsmodels.tsa.stattools import adfuller\n",
    "\n",
    "dftest = adfuller(reviewcount)\n",
    "\n",
    "# Extract and display test results in a user friendly manner\n",
    "dfoutput = pd.Series(dftest[0:4], index=['Test Statistic', 'p-value', '#Lags Used', 'Number of Observations Used'])\n",
    "for key,value in dftest[4].items():\n",
    "    dfoutput['Critical Value (%s)'%key] = value\n",
    "print(dftest)\n",
    "print('----------------------------------')\n",
    "print ('Results of Dickey-Fuller test: \\n')\n",
    "\n",
    "print(dfoutput)"
   ]
  },
  {
   "cell_type": "code",
   "execution_count": null,
   "metadata": {},
   "outputs": [],
   "source": [
    "difftest = adfuller(reviewcount.diff().dropna())\n",
    "\n",
    "# Extract and display test results in a user friendly manner\n",
    "dfoutput = pd.Series(difftest[0:4], index=['Test Statistic', 'p-value', '#Lags Used', 'Number of Observations Used'])\n",
    "for key,value in dftest[4].items():\n",
    "    dfoutput['Critical Value (%s)'%key] = value\n",
    "print(dftest)\n",
    "print('----------------------------------')\n",
    "print ('Results of Dickey-Fuller test: \\n')\n",
    "\n",
    "print(dfoutput)"
   ]
  },
  {
   "cell_type": "markdown",
   "metadata": {},
   "source": [
    "### Looking at ACF and PACF"
   ]
  },
  {
   "cell_type": "code",
   "execution_count": null,
   "metadata": {},
   "outputs": [],
   "source": [
    "from statsmodels.graphics.tsaplots import plot_acf\n",
    "from statsmodels.graphics.tsaplots import plot_pacf\n",
    "\n",
    "fig, ax = plt.subplots(figsize=(16,3))\n",
    "plot_acf(reviewcount, ax=ax, lags=9);\n",
    "\n",
    "fig, ax = plt.subplots(figsize=(16,3))\n",
    "plot_pacf(reviewcount, ax=ax, lags=9);"
   ]
  },
  {
   "cell_type": "code",
   "execution_count": null,
   "metadata": {},
   "outputs": [],
   "source": [
    "from statsmodels.graphics.tsaplots import plot_acf\n",
    "from statsmodels.graphics.tsaplots import plot_pacf\n",
    "\n",
    "fig, ax = plt.subplots(figsize=(16,3))\n",
    "plot_acf(reviewcount.diff().dropna(), ax=ax, lags=9);\n",
    "\n",
    "fig, ax = plt.subplots(figsize=(16,3))\n",
    "plot_pacf(reviewcount.diff().dropna(), ax=ax, lags=9);"
   ]
  },
  {
   "cell_type": "markdown",
   "metadata": {},
   "source": [
    "------"
   ]
  },
  {
   "cell_type": "code",
   "execution_count": null,
   "metadata": {},
   "outputs": [],
   "source": [
    "# Import ARMA\n",
    "from statsmodels.tsa.arima_model import ARMA\n",
    "import statsmodels.api as sm\n",
    "\n",
    "# Instantiate an AR(1) model to the simulated data\n",
    "mod_arma = ARMA(reviewcount, order=(1,0))"
   ]
  },
  {
   "cell_type": "code",
   "execution_count": null,
   "metadata": {},
   "outputs": [],
   "source": [
    "res_arma = mod_arma.fit()"
   ]
  },
  {
   "cell_type": "code",
   "execution_count": null,
   "metadata": {},
   "outputs": [],
   "source": [
    "# Print out summary information on the fit\n",
    "print(res_arma.summary())"
   ]
  },
  {
   "cell_type": "code",
   "execution_count": null,
   "metadata": {},
   "outputs": [],
   "source": [
    "# Print out the estimate for the constant and for theta\n",
    "print(res_arma.params)"
   ]
  }
 ],
 "metadata": {
  "kernelspec": {
   "display_name": "Python 3",
   "language": "python",
   "name": "python3"
  },
  "language_info": {
   "codemirror_mode": {
    "name": "ipython",
    "version": 3
   },
   "file_extension": ".py",
   "mimetype": "text/x-python",
   "name": "python",
   "nbconvert_exporter": "python",
   "pygments_lexer": "ipython3",
   "version": "3.7.6"
  }
 },
 "nbformat": 4,
 "nbformat_minor": 4
}
